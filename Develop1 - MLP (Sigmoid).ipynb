{
 "cells": [
  {
   "cell_type": "code",
   "execution_count": null,
   "metadata": {},
   "outputs": [],
   "source": [
    "import numpy as np"
   ]
  },
  {
   "cell_type": "markdown",
   "metadata": {},
   "source": [
    "### Generate Data"
   ]
  },
  {
   "cell_type": "code",
   "execution_count": null,
   "metadata": {},
   "outputs": [],
   "source": [
    "inputs = np.array ([[0.05 ,0.02]])\n",
    "targets = np.array ([[1.0, 0.0]])\n",
    "\n",
    "observations = inputs.shape[0]"
   ]
  },
  {
   "cell_type": "markdown",
   "metadata": {},
   "source": [
    " ## Model"
   ]
  },
  {
   "cell_type": "markdown",
   "metadata": {},
   "source": [
    "#### Model Architecture :"
   ]
  },
  {
   "cell_type": "code",
   "execution_count": null,
   "metadata": {},
   "outputs": [],
   "source": [
    "inputs_units = 2\n",
    "hidden_units = 3\n",
    "outputs_units= 2\n",
    "\n",
    "\n",
    "W1 = np.random.uniform(-1, 1, size=(inputs_units ,hidden_units))\n",
    "W2 = np.random.uniform(-1, 1, size=(hidden_units ,outputs_units))\n",
    "\n",
    "b1 = np.random.uniform(-1, 1, size=(1, hidden_units))\n",
    "b2 = np.random.uniform(-1, 1, size=(1, outputs_units))"
   ]
  },
  {
   "cell_type": "markdown",
   "metadata": {},
   "source": [
    "#### Train Model :"
   ]
  },
  {
   "cell_type": "code",
   "execution_count": null,
   "metadata": {},
   "outputs": [],
   "source": [
    "learning_rate = 0.1\n",
    "\n",
    "for i in range(300):\n",
    "    hidden_layer =  np.dot(inputs, W1) + b1\n",
    "    hidden_activation = 1 / (1 + np.exp(-hidden_layer))\n",
    "    hidden_deactivation = hidden_activation * (1 - hidden_activation)\n",
    "\n",
    "    output_layer =  np.dot(hidden_activation, W2) + b2\n",
    "    output_activation = 1 / (1 + np.exp(-output_layer))\n",
    "    output_deactivation = output_activation * (1 - output_activation)\n",
    "    \n",
    "    outputs = output_activation\n",
    "\n",
    "    \n",
    "    deltas = outputs - targets\n",
    "    loss = np.sum(deltas ** 2) / 2 / observations\n",
    "    if i % 30 == 0:\n",
    "        print (\"iteration %d: loss %f\" % (i, loss))\n",
    "    \n",
    "    doutput = deltas\n",
    "    doutput *= output_deactivation\n",
    "    \n",
    "    dW2 = np.dot(hidden_activation.T, doutput)\n",
    "    db2 = np.sum(doutput, axis=0, keepdims=True)\n",
    "\n",
    "    dhidden = np.dot(doutput, W2.T)\n",
    "    dhidden *= hidden_deactivation\n",
    "\n",
    "    dW1 = np.dot(inputs.T, dhidden)\n",
    "    db1 = np.sum(dhidden, axis=0, keepdims=True)\n",
    "\n",
    "\n",
    "    W1 += -learning_rate * dW1\n",
    "    b1 += -learning_rate * db1\n",
    "    W2 += -learning_rate * dW2\n",
    "    b2 += -learning_rate * db2"
   ]
  },
  {
   "cell_type": "code",
   "execution_count": null,
   "metadata": {},
   "outputs": [],
   "source": [
    "print(outputs)"
   ]
  }
 ],
 "metadata": {
  "kernelspec": {
   "display_name": "Python 3",
   "language": "python",
   "name": "python3"
  },
  "language_info": {
   "codemirror_mode": {
    "name": "ipython",
    "version": 3
   },
   "file_extension": ".py",
   "mimetype": "text/x-python",
   "name": "python",
   "nbconvert_exporter": "python",
   "pygments_lexer": "ipython3",
   "version": "3.7.6"
  }
 },
 "nbformat": 4,
 "nbformat_minor": 4
}
