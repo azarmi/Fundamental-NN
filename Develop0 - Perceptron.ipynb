{
 "cells": [
  {
   "cell_type": "code",
   "execution_count": 2,
   "metadata": {},
   "outputs": [],
   "source": [
    "import numpy as np"
   ]
  },
  {
   "cell_type": "markdown",
   "metadata": {},
   "source": [
    "### Generate Data"
   ]
  },
  {
   "cell_type": "code",
   "execution_count": 3,
   "metadata": {},
   "outputs": [
    {
     "name": "stdout",
     "output_type": "stream",
     "text": [
      "(1000, 2)\n"
     ]
    }
   ],
   "source": [
    "observation = 1000\n",
    "\n",
    "x1 = np.random.uniform(low=-10, high=10, size=(observation,1))\n",
    "x2 = np.random.uniform(-10, 10, (observation, 1))\n",
    "\n",
    "inputs = np.column_stack((x1, x2))\n",
    "\n",
    "print(inputs.shape)"
   ]
  },
  {
   "cell_type": "code",
   "execution_count": 4,
   "metadata": {},
   "outputs": [
    {
     "name": "stdout",
     "output_type": "stream",
     "text": [
      "(1000, 1)\n"
     ]
    }
   ],
   "source": [
    "noise = np.random.uniform(-1,1,(observation, 1))\n",
    "\n",
    "targets = 2*x1 - 3*x2 + 5 + noise\n",
    "\n",
    "print(targets.shape)"
   ]
  },
  {
   "cell_type": "markdown",
   "metadata": {},
   "source": [
    "### Create Model"
   ]
  },
  {
   "cell_type": "code",
   "execution_count": 5,
   "metadata": {},
   "outputs": [
    {
     "name": "stdout",
     "output_type": "stream",
     "text": [
      "[[ 0.01779697]\n",
      " [-0.07588035]]\n",
      "[[0.05904729]]\n"
     ]
    }
   ],
   "source": [
    "init_range = 0.1\n",
    "\n",
    "weights = np.random.uniform(-init_range, init_range, size=(2,1))\n",
    "biases = np.random.uniform(-init_range, init_range, size=(1,1))\n",
    "\n",
    "print(weights)\n",
    "print(biases)"
   ]
  },
  {
   "cell_type": "code",
   "execution_count": 6,
   "metadata": {},
   "outputs": [],
   "source": [
    "learning_rate = 0.02"
   ]
  },
  {
   "cell_type": "code",
   "execution_count": 7,
   "metadata": {},
   "outputs": [
    {
     "name": "stdout",
     "output_type": "stream",
     "text": [
      "219.67733484419315\n",
      "36.045194533533945\n",
      "14.327215273146608\n",
      "11.338761101221762\n",
      "10.60063628813354\n",
      "10.1521585714329\n",
      "9.753740195067792\n",
      "9.375106781015715\n",
      "9.01192555084083\n",
      "8.663137449446157\n",
      "8.328117495596754\n",
      "8.006315236065282\n",
      "7.697208296145604\n",
      "7.400295722653954\n",
      "7.115096429351077\n",
      "6.8411483223335905\n",
      "6.578007539135874\n",
      "6.325247728001438\n",
      "6.082459356889249\n",
      "5.84924904990699\n",
      "5.625238949943663\n",
      "5.41006610644923\n",
      "5.203381887366879\n",
      "5.004851414264742\n",
      "4.81415301975184\n",
      "4.63097772629908\n",
      "4.45502874562093\n",
      "4.286020997806603\n",
      "4.123680649421631\n",
      "3.967744669831468\n",
      "3.817960405028239\n",
      "3.6740851682701194\n",
      "3.5358858468701113\n",
      "3.403138524497105\n",
      "3.275628118377257\n",
      "3.153148030807861\n",
      "3.035499814419096\n",
      "2.9224928506412895\n",
      "2.813944040856712\n",
      "2.7096775097355357\n",
      "2.6095243202752534\n",
      "2.5133222000818614\n",
      "2.4209152784493355\n",
      "2.3321538338113785\n",
      "2.2468940511562687\n",
      "2.164997789011747\n",
      "2.086332355622417\n",
      "2.0107702939570036\n",
      "1.938189175197135\n",
      "1.86847140037303\n",
      "1.8015040098247332\n",
      "1.7371785001801308\n",
      "1.6753906485532468\n",
      "1.6160403436779518\n",
      "1.5590314237034972\n",
      "1.5042715203890566\n",
      "1.4516719094448305\n",
      "1.4011473667772323\n",
      "1.3526160304052433\n",
      "1.3059992678242034\n",
      "1.2612215486021254\n",
      "1.2182103220021316\n",
      "1.1768958994327072\n",
      "1.137211341535322\n",
      "1.0990923497264808\n",
      "1.0624771620184614\n",
      "1.0273064529499565\n",
      "0.9935232374644728\n",
      "0.9610727785807599\n",
      "0.9299024987056509\n",
      "0.8999618944456539\n",
      "0.8712024547792298\n",
      "0.8435775824572029\n",
      "0.8170425185039516\n",
      "0.7915542696970345\n",
      "0.767071538907772\n",
      "0.7435546581899086\n",
      "0.720965524507942\n",
      "0.6992675380009924\n",
      "0.6784255426821728\n",
      "0.6584057694773833\n",
      "0.6391757815112449\n",
      "0.6207044215515147\n",
      "0.602961761526833\n",
      "0.5859190540360055\n",
      "0.5695486857702646\n",
      "0.5538241327730239\n",
      "0.5387199174646559\n",
      "0.5242115673626476\n",
      "0.5102755754302625\n",
      "0.4968893619894494\n",
      "0.4840312381363081\n",
      "0.47168037059981305\n",
      "0.45981674798687916\n",
      "0.448421148359059\n",
      "0.437475108088359\n",
      "0.42696089194169123\n",
      "0.4168614643455071\n",
      "0.40716046178404713\n",
      "0.39784216628648744\n"
     ]
    }
   ],
   "source": [
    "for i in range(100):\n",
    "    outputs = np.dot(inputs, weights) + biases    \n",
    "   \n",
    "    loss = np.sum((outputs - targets) **2) / 2 / observation\n",
    "    print(loss)\n",
    "    \n",
    "    d_loss = (outputs - targets) / observation\n",
    "    \n",
    "    weights = weights - learning_rate * np.dot(inputs.T, d_loss)\n",
    "    biases = biases - learning_rate * np.sum(d_loss)"
   ]
  },
  {
   "cell_type": "code",
   "execution_count": 8,
   "metadata": {},
   "outputs": [
    {
     "name": "stdout",
     "output_type": "stream",
     "text": [
      "[[ 2.00418351]\n",
      " [-3.00424257]] [[4.35452118]]\n"
     ]
    }
   ],
   "source": [
    "print(weights, biases)"
   ]
  }
 ],
 "metadata": {
  "kernelspec": {
   "display_name": "Python 3",
   "language": "python",
   "name": "python3"
  },
  "language_info": {
   "codemirror_mode": {
    "name": "ipython",
    "version": 3
   },
   "file_extension": ".py",
   "mimetype": "text/x-python",
   "name": "python",
   "nbconvert_exporter": "python",
   "pygments_lexer": "ipython3",
   "version": "3.7.6"
  }
 },
 "nbformat": 4,
 "nbformat_minor": 4
}
