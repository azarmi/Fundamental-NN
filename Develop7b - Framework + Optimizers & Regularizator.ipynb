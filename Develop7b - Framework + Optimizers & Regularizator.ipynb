{
 "cells": [
  {
   "cell_type": "code",
   "execution_count": 16,
   "metadata": {},
   "outputs": [],
   "source": [
    "import numpy as np\n",
    "import matplotlib.pyplot as plt\n",
    "import matplotlib.image as img\n",
    "import os"
   ]
  },
  {
   "cell_type": "markdown",
   "metadata": {},
   "source": [
    "### Data Prepare Class :"
   ]
  },
  {
   "cell_type": "code",
   "execution_count": 20,
   "metadata": {},
   "outputs": [],
   "source": [
    "class DataPrepare:\n",
    "    def __init__(self, dataset, test_split=0, batch_size=0, validation_split=.0, shuffle=False):\n",
    "        self.num_samples = dataset[0].shape[0]\n",
    "        dsIndx = np.arange(self.num_samples)\n",
    "        if shuffle:\n",
    "            np.random.shuffle(dsIndx)\n",
    "        self.dataset = dataset[0][dsIndx], dataset[1][dsIndx]\n",
    "        self.num_valid = int(self.num_samples * validation_split)\n",
    "        self.num_test  = int(self.num_samples * test_split)\n",
    "        self.num_train = self.num_samples - self.num_test - self.num_valid\n",
    "        if batch_size == 0:\n",
    "            self.batch_size = self.num_samples\n",
    "            self.num_batchs = 1\n",
    "        else:\n",
    "            self.batch_size = batch_size   \n",
    "            self.num_batchs = self.num_train // batch_size\n",
    "            if self.num_train % batch_size != 0:\n",
    "                self.num_batchs += 1 \n",
    "        if self.num_valid:\n",
    "            self.validations = self.dataset[0][self.num_train:self.num_train+self.num_valid], self.dataset[1][self.num_train:self.num_train+self.num_valid]\n",
    "        else:\n",
    "            self.validations = 0\n",
    "        if self.num_test:\n",
    "            self.test = self.dataset[0][self.num_train+self.num_valid::], self.dataset[1][self.num_train+self.num_valid::]\n",
    "        self.train = self.dataset[0][0:self.num_train], self.dataset[1][0:self.num_train]\n",
    "\n",
    "            \n",
    "    def __iter__(self):\n",
    "        for i in range(0, self.num_train, self.batch_size):\n",
    "            yield (self.train[0][i:i+self.batch_size], self.train[1][i:i+self.batch_size]) \n",
    "            \n",
    "    def __len__(self):\n",
    "        return self.num_batchs\n",
    "    \n",
    "    def info(self):\n",
    "        print('Number of Samples: {} (# Batchs : {})\\n | # Train: {} | # Validation: {} | # Test: {}'.format\n",
    "             (self.num_samples, self.num_batchs, self.num_train, self.num_valid, self.num_test))"
   ]
  },
  {
   "cell_type": "markdown",
   "metadata": {},
   "source": [
    "### Layers Classes :"
   ]
  },
  {
   "cell_type": "code",
   "execution_count": 46,
   "metadata": {},
   "outputs": [],
   "source": [
    "class ReLU:\n",
    "    def __init__(self):\n",
    "        self.learnable = None\n",
    "    def forward (self, x):\n",
    "        self.old_x = x.copy()\n",
    "        return np.clip(self.old_x, 0, None)\n",
    "    def backward(self, grad):\n",
    "        return np.where(self.old_x > 0, grad,0)\n",
    "\n",
    "class Sigmoid:\n",
    "    def __init__(self):\n",
    "        self.learnable = None\n",
    "    def forward(self, x):\n",
    "        self.y = 1 / (1 + np.exp(-x))\n",
    "        return self.y\n",
    "    def backward(self, grad):\n",
    "        return self.y * (1 - self.y) * grad\n",
    "\n",
    "class Softmax:\n",
    "    def __init__(self):\n",
    "        self.learnable = None\n",
    "    def forward(self, x):\n",
    "        n_exp = np.exp(x - x.max())\n",
    "        self.y = n_exp / np.sum(n_exp, axis=1, keepdims=True)\n",
    "        return self.y\n",
    "    def backward(self, grad):\n",
    "        return self.y*(grad - np.sum(grad*self.y, axis=1, keepdims=True))\n",
    "    \n",
    "class Dropout:\n",
    "    def __init__(self, keep_prob):\n",
    "        self.learnable = None\n",
    "        self.parameter = keep_prob\n",
    "    def forward(self, x):\n",
    "        self.dropout = np.random.binomial(1, self.parameter, size=(x.shape[0], x.shape[1]))\n",
    "        return np.multiply(x, self.dropout) / self.parameter\n",
    "    def backward(self, grad):\n",
    "        return np.multiply(grad, self.dropout) \n",
    "    \n",
    "class BatchNormalization:\n",
    "    def __init__(self, num_input):\n",
    "        gamma = np.ones(num_input)\n",
    "        beta = np.zeros(num_input)\n",
    "        self.learnable = [gamma, beta]\n",
    "        self.regularizer = None\n",
    "        self.cache = []\n",
    "    def forward(self, x):\n",
    "        gamma, beta = self.learnable\n",
    "        mu = np.mean(x, axis=0)\n",
    "        var = np.var(x, axis=0)\n",
    "        x_norm = (x - mu) / np.sqrt(var + 1e-8)\n",
    "        self.Cache = (x, x_norm, mu, var)\n",
    "        return gamma * x_norm + beta\n",
    "    def backward(self, grad):\n",
    "        gamma, beta = self.learnable\n",
    "        x, x_norm, mu, var = self.Cache\n",
    "        N, D = x.shape\n",
    "        x_mu = x - mu\n",
    "        std_inv = 1. / np.sqrt(var + 1e-8)\n",
    "        dx_norm = grad * gamma\n",
    "        dvar = np.sum(dx_norm * x_mu, axis=0) * -.5 * std_inv**3\n",
    "        dmu = np.sum(dx_norm * -std_inv, axis=0) + dvar * np.mean(-2. * x_mu, axis=0)\n",
    "        grad_gamma = np.sum(grad * x_norm, axis=0)\n",
    "        grad_beta = np.sum(grad, axis=0)\n",
    "        self.gradient = [grad_gamma, grad_beta]\n",
    "        return (dx_norm * std_inv) + (dvar * 2 * x_mu / N) + (dmu / N)\n",
    "\n",
    "class Linear:\n",
    "    def __init__(self, num_input, num_output, name=None, kernel_regularizer=None):\n",
    "        weight = np.random.randn(num_input, num_output)*np.sqrt(2 / num_input)\n",
    "        bias = np.zeros((1, num_output))\n",
    "        self.learnable = [weight, bias]\n",
    "        self.cache = []\n",
    "        if kernel_regularizer:\n",
    "            self.regularizer = kernel_regularizer\n",
    "        else:\n",
    "            self.regularizer = None\n",
    "    def forward(self, x):\n",
    "        weights, biases = self.learnable\n",
    "        if self.regularizer:\n",
    "            self.regularizer_penalty = self.regularizer.equation(weights)\n",
    "        self.old_x = x.copy()\n",
    "        return np.dot(x, weights) + biases\n",
    "    def backward(self, grad):\n",
    "        weights, biases = self.learnable\n",
    "        grad_w = np.dot(self.old_x.T, grad) / self.old_x.shape[0]\n",
    "        grad_b = grad.mean(axis=0)\n",
    "        if self.regularizer:\n",
    "            grad_w += self.regularizer.gradient(weights)\n",
    "        self.gradient = [grad_w, grad_b]\n",
    "        return np.dot(grad, weights.T)"
   ]
  },
  {
   "cell_type": "code",
   "execution_count": 23,
   "metadata": {},
   "outputs": [],
   "source": [
    "class regularizers:  \n",
    "    class l1:\n",
    "        def __init__(self, rate):\n",
    "            self.rate = rate\n",
    "        def equation(self, weight_matrix):\n",
    "            return self.rate * np.sum(np.abs(weight_matrix))\n",
    "        def gradient(self, weight_matrix):\n",
    "            return self.rate * np.sign(weight_matrix)\n",
    "    \n",
    "    class l2:\n",
    "        def __init__(self, rate):\n",
    "            self.rate = rate\n",
    "        def equation(self, weight_matrix):\n",
    "            return self.rate * np.sum(np.power(weight_matrix, 2))\n",
    "        def gradient(self, weight_matrix):\n",
    "            return self.rate * weight_matrix * 2  "
   ]
  },
  {
   "cell_type": "markdown",
   "metadata": {},
   "source": [
    "### Loss Classes :"
   ]
  },
  {
   "cell_type": "code",
   "execution_count": 24,
   "metadata": {},
   "outputs": [],
   "source": [
    "class Mean_Squared_Error:\n",
    "    def forward(self, y_hat, y):\n",
    "        self.R = y_hat - y\n",
    "        return np.mean(np.power((self.R), 2)) / 2\n",
    "    def backward(self):\n",
    "        return self.R\n",
    "    \n",
    "class Mean_Absolute_Error:\n",
    "    def forward(self, y_hat, y):\n",
    "        self.y_hat = y_hat\n",
    "        self.y = y\n",
    "        return np.mean(np.abs(y_hat - y))\n",
    "    def backward(self):\n",
    "        return np.where(self.y_hat > self.y, +1, -1)\n",
    "\n",
    "class Huber:\n",
    "    def __init__(self, delta=1.0):\n",
    "        self.delta = delta\n",
    "    def forward(self, y_hat, y):\n",
    "        self.R = y_hat - y\n",
    "        mse = np.mean(np.power(self.R, 2)) / 2\n",
    "        mae = np.abs(self.R)\n",
    "        return np.where(y_hat > y, mse, (self.delta * mae) - (self.delta**2)/2)\n",
    "    def backward(self):\n",
    "        return np.where(np.abs(self.R) <= self.delta, self.R, np.sign(self.R) * self.delta)\n",
    "\n",
    "class Binary_CrossEntropy:\n",
    "    def forward(self, y_hat, y):\n",
    "        self.y_hat = y_hat.clip(min=1e-8, max=None)\n",
    "        self.y = y\n",
    "        return np.where(y==1, -np.log(y_hat), -np.log(1- y_hat))\n",
    "    def backward(self):\n",
    "        return  np.where(self.y==1, self.y_hat-1, self.y_hat)\n",
    "\n",
    "class Categorical_CrossEntropy:\n",
    "    def forward(self, y_hat, y):\n",
    "        self.y_hat = y_hat.clip(min=1e-8, max=None)\n",
    "        self.y = y\n",
    "        return (np.where(y==1, -np.log(self.y_hat), 0)).sum(axis=1)\n",
    "    def backward(self):\n",
    "        return np.where(self.y==1, -1 / self.y_hat, 0)\n",
    "\n",
    "class Sparse_Categorical_CrossEntropy:\n",
    "    def forward(self, y_hat, y):\n",
    "        self.y_hat = y_hat.clip(min=1e-8, max=None)\n",
    "        self.y = y\n",
    "        return -np.sum(np.log(self.y_hat[range(y.shape[0]),y])) / y.shape[0]\n",
    "    def backward(self):\n",
    "        y_hot = np.zeros(self.y_hat.shape)\n",
    "        y_hot[range(self.y.shape[0]),self.y] = 1\n",
    "        return np.where(y_hot==1, -1 / self.y_hat, 0)\n",
    "\n",
    "class Kullback_Leibler_Divergence:\n",
    "    def forward(self, y_hat, y):\n",
    "        self.y_hat = y_hat.clip(min=1e-8, max=None)\n",
    "        self.y = y\n",
    "        self.entropy = -np.sum(y * np.log(y))\n",
    "        self.cross_entropy = -np.sum(y * np.log(y_hat))\n",
    "        return self.entropy - self.cross_entropy\n",
    "    def backward(self):\n",
    "        return  np.where(self.y==1, self.y_hat-1, self.y_hat)"
   ]
  },
  {
   "cell_type": "markdown",
   "metadata": {},
   "source": [
    "### Optimizers Classes :"
   ]
  },
  {
   "cell_type": "code",
   "execution_count": 62,
   "metadata": {},
   "outputs": [],
   "source": [
    "class SGD:\n",
    "    def __init__(self, model, learning_rate, momentom=.9):\n",
    "        self.model = model\n",
    "        self.lr = learning_rate\n",
    "        self.momentom = momentom\n",
    "        for layer in self.model.layers:\n",
    "            if layer.learnable:\n",
    "                for parameter in layer.learnable:\n",
    "                    layer.cache.append(0.)\n",
    "    def step(self):\n",
    "        for layer in self.model.layers:\n",
    "            if layer.learnable:\n",
    "                for i, _ in enumerate(layer.learnable):\n",
    "                    value =    layer.learnable[i]\n",
    "                    gradinet = layer.gradient[i]\n",
    "                    velocity = layer.cache[i]\n",
    "                    \n",
    "                    velocity = self.momentom * velocity + (1-self.momentom) * gradinet\n",
    "                    value -= self.lr * velocity\n",
    "                    \n",
    "                    layer.learnable[i] = value \n",
    "                    layer.gradient[i] = gradinet \n",
    "                    layer.cache[i] = velocity\n",
    "\n",
    "class RMSProp:\n",
    "    def __init__(self, model, learning_rate, beta=.9):\n",
    "        self.model = model\n",
    "        self.lr = learning_rate\n",
    "        self.beta = beta\n",
    "        for layer in self.model.layers:\n",
    "            if layer.learnable:\n",
    "                for parameter in layer.learnable:\n",
    "                    layer.cache.append(0.)       \n",
    "    def step(self):\n",
    "        for layer in self.model.layers:\n",
    "            if layer.learnable:\n",
    "                for i, _ in enumerate(layer.learnable):\n",
    "                    value =    layer.learnable[i]\n",
    "                    gradinet = layer.gradient[i]\n",
    "                    s = layer.cache[i]\n",
    "                    \n",
    "                    s = self.beta + (1-self.beta) * np.power(gradinet, 2)\n",
    "                    value -= (self.lr / np.sqrt(s + 1e-8)) * gradinet\n",
    "                    \n",
    "                    layer.learnable[i] = value \n",
    "                    layer.gradient[i] = gradinet \n",
    "                    layer.cache[i] = s\n",
    "\n",
    "class Adam:\n",
    "    def __init__(self, model, learning_rate, beta=[.9, .999]):\n",
    "        self.model = model\n",
    "        self.lr = learning_rate\n",
    "        self.beta = beta\n",
    "        self.epoch = 0\n",
    "        for layer in self.model.layers:\n",
    "            if layer.learnable:\n",
    "                for parameter in layer.learnable:\n",
    "                    layer.cache.append([0., 0., 0., 0.])     \n",
    "    def step(self):\n",
    "        self.epoch += 1\n",
    "        for layer in self.model.layers:\n",
    "            if layer.learnable:\n",
    "                for i, _ in enumerate(layer.learnable):\n",
    "                    value =    layer.learnable[i]\n",
    "                    gradinet = layer.gradient[i]\n",
    "                    m, v, m_hat, v_hat = layer.cache[i]\n",
    "                    \n",
    "                    m = self.beta[0] * m + (1-self.beta[0]) * gradinet\n",
    "                    v = self.beta[1] * v + (1-self.beta[1]) * np.power(gradinet, 2)\n",
    "                    m_hat = m / (1 - np.power(self.beta[0], self.epoch))\n",
    "                    v_hat = v / (1 - np.power(self.beta[1], self.epoch))\n",
    "                    value -= self.lr * m_hat / np.sqrt(v_hat + 1e-8)\n",
    "                    \n",
    "                    layer.learnable[i] = value \n",
    "                    layer.gradient[i] = gradinet \n",
    "                    layer.cache[i] = [m, v, m_hat, v_hat]"
   ]
  },
  {
   "cell_type": "markdown",
   "metadata": {},
   "source": [
    "### Model :"
   ]
  },
  {
   "cell_type": "code",
   "execution_count": 35,
   "metadata": {},
   "outputs": [],
   "source": [
    "class Model:\n",
    "    def __init__(self, layers, cost):\n",
    "        self.layers = layers\n",
    "        self.cost = cost\n",
    "    def loss(self, y_hat, y):\n",
    "        penalty = 0.\n",
    "        for layer in self.layers:\n",
    "            if layer.learnable:\n",
    "                if layer.regularizer:\n",
    "                    penalty += layer.regularizer_penalty\n",
    "        return self.cost.forward(y_hat, y) + penalty\n",
    "    def forward(self, x, train=False):\n",
    "        for layer in self.layers:\n",
    "            if train:\n",
    "                x = layer.forward(x)\n",
    "            else:\n",
    "                if type(layer) == Dropout:\n",
    "                    continue\n",
    "                x = layer.forward(x)\n",
    "        return x\n",
    "    def backward(self):\n",
    "        grad = self.cost.backward()\n",
    "        for i in range(len(self.layers)-1,-1,-1):\n",
    "            grad = self.layers[i].backward(grad)"
   ]
  },
  {
   "cell_type": "markdown",
   "metadata": {},
   "source": [
    "## Train & Test :"
   ]
  },
  {
   "cell_type": "code",
   "execution_count": 26,
   "metadata": {},
   "outputs": [],
   "source": [
    "def train(model, data, optimizer, epochs, verbose=1, trend_plot=False):\n",
    "    train_loss = []\n",
    "    train_accuracy = []\n",
    "    valid_loss = []\n",
    "    valid_accuracy = []\n",
    "    for e in range(epochs):\n",
    "        iter_loss = 0.\n",
    "        iter_accuracy = 0.\n",
    "        for inputs, targets in data:\n",
    "            predicts = model.forward(inputs, train=True)\n",
    "            iter_loss += model.loss(predicts, targets).mean()\n",
    "            iter_accuracy += (np.argmax(predicts,axis=1)  == np.argmax(targets,axis=1)).mean() \n",
    "#             iter_accuracy += (np.argmax(predicts,axis=1)  == targets).mean()\n",
    "#             iter_accuracy += (np.where(predicts>=.5, 1, 0) == targets[:,None]).mean()\n",
    "            model.backward()\n",
    "            optimizer.step()\n",
    "        iter_loss /= len(data)\n",
    "        iter_accuracy /= len(data)\n",
    "        train_loss.append(iter_loss)\n",
    "        train_accuracy.append(iter_accuracy)\n",
    "        \n",
    "        valid_info = ''\n",
    "        if data.validations:\n",
    "            x, y = data.validations\n",
    "            p = model.forward(x)\n",
    "            valid_loss.append(model.loss(p, y).mean())\n",
    "            valid_accuracy.append((np.argmax(p,axis=1)  == np.argmax(y,axis=1)).mean())\n",
    "#             valid_accuracy.append((np.argmax(p,axis=1)  == y).mean())\n",
    "#             valid_accuracy.append((np.where(p>=.5, 1, 0) == targets[:,None]).mean())\n",
    "            valid_info = ' Validation Loss: {:.4f}, Accuracy: {:.1f}%'.format(valid_loss[-1], valid_accuracy[-1]*100)\n",
    "            \n",
    "        if e % verbose == 0:\n",
    "            print('Epoch[{}], Training Loss: {:.4f}, Accuracy: {:.1f}%{}'.format(\n",
    "                   e, iter_loss, iter_accuracy*100, valid_info))\n",
    "    print('DONE TRAINING!')\n",
    "    if trend_plot:\n",
    "        plt.figure(figsize=(5,5))\n",
    "        plt.plot(train_loss, label = 'Trainig Loss')\n",
    "        plt.plot(valid_loss, label = 'Validation Loss')\n",
    "        plt.legend()\n",
    "        plt.show()\n",
    "\n",
    "        plt.figure(figsize=(5,5))\n",
    "        plt.plot(train_accuracy, label = 'Trainig Accuracy')\n",
    "        plt.plot(valid_accuracy, label = 'Validation Accuracy')\n",
    "        plt.legend()\n",
    "        plt.show()"
   ]
  },
  {
   "cell_type": "code",
   "execution_count": 27,
   "metadata": {},
   "outputs": [],
   "source": [
    "def test(model, data):\n",
    "    x, y = data\n",
    "    p = model.forward(x)\n",
    "    accuracy = (np.argmax(p,axis=1)  == np.argmax(y,axis=1)).mean()\n",
    "#     accuracy = (np.argmax(p,axis=1)  == y).mean()\n",
    "#     accuracy = (np.where(p>=.5, 1, 0) == targets[:,None]).mean()\n",
    "    print('Test Accuracy: {:.1f}%'.format(accuracy*100))"
   ]
  },
  {
   "cell_type": "markdown",
   "metadata": {},
   "source": [
    "#### Load data :"
   ]
  },
  {
   "cell_type": "code",
   "execution_count": 17,
   "metadata": {},
   "outputs": [
    {
     "data": {
      "image/png": "[encoded data removed]",
      "text/plain": [
       "<Figure size 432x288 with 1 Axes>"
      ]
     },
     "metadata": {
      "needs_background": "light"
     },
     "output_type": "display_data"
    },
    {
     "name": "stdout",
     "output_type": "stream",
     "text": [
      "(300, 2) (300,)\n"
     ]
    }
   ],
   "source": [
    "N = 100 # number of points per class\n",
    "D = 2 # dimensionality\n",
    "K = 3 # number of classes\n",
    "inputs = np.zeros((N*K,D)) # data matrix (each row = single example)\n",
    "targets = np.zeros(N*K, dtype='uint8') # class labels\n",
    "for j in range(K):\n",
    "    ix = range(N*j,N*(j+1))\n",
    "    r = np.linspace(0.0,1,N) # radius\n",
    "    t = np.linspace(j*4,(j+1)*4,N) + np.random.randn(N)*0.2 # theta\n",
    "    inputs[ix] = np.c_[r*np.sin(t), r*np.cos(t)]\n",
    "    targets[ix] = j\n",
    "\n",
    "# # lets visualize the data:\n",
    "plt.scatter(inputs[:, 0], inputs[:, 1], c=targets, s=40, cmap=plt.cm.Spectral)\n",
    "plt.show()\n",
    "X = inputs\n",
    "Y = targets\n",
    "print(X.shape, Y.shape)"
   ]
  },
  {
   "cell_type": "code",
   "execution_count": 28,
   "metadata": {},
   "outputs": [
    {
     "name": "stdout",
     "output_type": "stream",
     "text": [
      "(506, 13) (506, 1)\n"
     ]
    }
   ],
   "source": [
    "from sklearn.datasets import load_boston\n",
    "X, Y = load_boston(return_X_y=True)\n",
    "Y = Y[:,None]\n",
    "X = (X - X.mean()) / X.std()\n",
    "print(X.shape, Y.shape)"
   ]
  },
  {
   "cell_type": "code",
   "execution_count": null,
   "metadata": {},
   "outputs": [],
   "source": [
    "from sklearn.datasets import fetch_openml\n",
    "X, Y = fetch_openml('mnist_784', version=1, return_X_y=True)\n",
    "Y = Y.astype(int)\n",
    "print(X.shape, Y.shape)"
   ]
  },
  {
   "cell_type": "markdown",
   "metadata": {},
   "source": [
    "#### Prepared Data :"
   ]
  },
  {
   "cell_type": "code",
   "execution_count": 29,
   "metadata": {},
   "outputs": [
    {
     "name": "stdout",
     "output_type": "stream",
     "text": [
      "Number of Samples: 506 (# Batchs : 1)\n",
      " | # Train: 451 | # Validation: 5 | # Test: 50\n"
     ]
    }
   ],
   "source": [
    "preparedData = DataPrepare((X,Y), test_split=.10, batch_size=0, validation_split=.01, shuffle=True)\n",
    "preparedData.info()"
   ]
  },
  {
   "cell_type": "markdown",
   "metadata": {},
   "source": [
    "#### Architecture :"
   ]
  },
  {
   "cell_type": "code",
   "execution_count": 60,
   "metadata": {
    "scrolled": false
   },
   "outputs": [
    {
     "name": "stdout",
     "output_type": "stream",
     "text": [
      "Epoch[0], Training Loss: 290.5105, Accuracy: 100.0% Validation Loss: 687.4535, Accuracy: 100.0%\n",
      "Epoch[1000], Training Loss: 0.8379, Accuracy: 100.0% Validation Loss: 220.9467, Accuracy: 100.0%\n"
     ]
    },
    {
     "ename": "KeyboardInterrupt",
     "evalue": "",
     "output_type": "error",
     "traceback": [
      "\u001b[1;31m---------------------------------------------------------------------------\u001b[0m",
      "\u001b[1;31mKeyboardInterrupt\u001b[0m                         Traceback (most recent call last)",
      "\u001b[1;32m<ipython-input-60-024f84f5f116>\u001b[0m in \u001b[0;36m<module>\u001b[1;34m\u001b[0m\n\u001b[0;32m     12\u001b[0m \u001b[0mnet\u001b[0m \u001b[1;33m=\u001b[0m \u001b[0mModel\u001b[0m\u001b[1;33m(\u001b[0m\u001b[0mlayers\u001b[0m\u001b[1;33m,\u001b[0m \u001b[0mcost\u001b[0m\u001b[1;33m=\u001b[0m\u001b[0mMean_Squared_Error\u001b[0m\u001b[1;33m(\u001b[0m\u001b[1;33m)\u001b[0m\u001b[1;33m)\u001b[0m\u001b[1;33m\u001b[0m\u001b[1;33m\u001b[0m\u001b[0m\n\u001b[0;32m     13\u001b[0m \u001b[0moptimizer\u001b[0m \u001b[1;33m=\u001b[0m \u001b[0mAdam\u001b[0m\u001b[1;33m(\u001b[0m\u001b[0mnet\u001b[0m\u001b[1;33m,\u001b[0m \u001b[0mlearning_rate\u001b[0m\u001b[1;33m=\u001b[0m\u001b[1;36m0.01\u001b[0m\u001b[1;33m)\u001b[0m\u001b[1;33m\u001b[0m\u001b[1;33m\u001b[0m\u001b[0m\n\u001b[1;32m---> 14\u001b[1;33m \u001b[0mtrain\u001b[0m\u001b[1;33m(\u001b[0m\u001b[0mnet\u001b[0m\u001b[1;33m,\u001b[0m \u001b[0mpreparedData\u001b[0m\u001b[1;33m,\u001b[0m \u001b[0moptimizer\u001b[0m\u001b[1;33m,\u001b[0m \u001b[0mepochs\u001b[0m\u001b[1;33m=\u001b[0m\u001b[1;36m10000\u001b[0m\u001b[1;33m,\u001b[0m \u001b[0mverbose\u001b[0m\u001b[1;33m=\u001b[0m\u001b[1;36m1000\u001b[0m\u001b[1;33m,\u001b[0m \u001b[0mtrend_plot\u001b[0m\u001b[1;33m=\u001b[0m\u001b[1;32mTrue\u001b[0m\u001b[1;33m)\u001b[0m\u001b[1;33m\u001b[0m\u001b[1;33m\u001b[0m\u001b[0m\n\u001b[0m\u001b[0;32m     15\u001b[0m \u001b[1;31m# test(net, preparedData.test)\u001b[0m\u001b[1;33m\u001b[0m\u001b[1;33m\u001b[0m\u001b[1;33m\u001b[0m\u001b[0m\n",
      "\u001b[1;32m<ipython-input-26-716af78e14de>\u001b[0m in \u001b[0;36mtrain\u001b[1;34m(model, data, optimizer, epochs, verbose, trend_plot)\u001b[0m\n\u001b[0;32m     10\u001b[0m             \u001b[0mpredicts\u001b[0m \u001b[1;33m=\u001b[0m \u001b[0mmodel\u001b[0m\u001b[1;33m.\u001b[0m\u001b[0mforward\u001b[0m\u001b[1;33m(\u001b[0m\u001b[0minputs\u001b[0m\u001b[1;33m,\u001b[0m \u001b[0mtrain\u001b[0m\u001b[1;33m=\u001b[0m\u001b[1;32mTrue\u001b[0m\u001b[1;33m)\u001b[0m\u001b[1;33m\u001b[0m\u001b[1;33m\u001b[0m\u001b[0m\n\u001b[0;32m     11\u001b[0m             \u001b[0miter_loss\u001b[0m \u001b[1;33m+=\u001b[0m \u001b[0mmodel\u001b[0m\u001b[1;33m.\u001b[0m\u001b[0mloss\u001b[0m\u001b[1;33m(\u001b[0m\u001b[0mpredicts\u001b[0m\u001b[1;33m,\u001b[0m \u001b[0mtargets\u001b[0m\u001b[1;33m)\u001b[0m\u001b[1;33m.\u001b[0m\u001b[0mmean\u001b[0m\u001b[1;33m(\u001b[0m\u001b[1;33m)\u001b[0m\u001b[1;33m\u001b[0m\u001b[1;33m\u001b[0m\u001b[0m\n\u001b[1;32m---> 12\u001b[1;33m             \u001b[0miter_accuracy\u001b[0m \u001b[1;33m+=\u001b[0m \u001b[1;33m(\u001b[0m\u001b[0mnp\u001b[0m\u001b[1;33m.\u001b[0m\u001b[0margmax\u001b[0m\u001b[1;33m(\u001b[0m\u001b[0mpredicts\u001b[0m\u001b[1;33m,\u001b[0m\u001b[0maxis\u001b[0m\u001b[1;33m=\u001b[0m\u001b[1;36m1\u001b[0m\u001b[1;33m)\u001b[0m  \u001b[1;33m==\u001b[0m \u001b[0mnp\u001b[0m\u001b[1;33m.\u001b[0m\u001b[0margmax\u001b[0m\u001b[1;33m(\u001b[0m\u001b[0mtargets\u001b[0m\u001b[1;33m,\u001b[0m\u001b[0maxis\u001b[0m\u001b[1;33m=\u001b[0m\u001b[1;36m1\u001b[0m\u001b[1;33m)\u001b[0m\u001b[1;33m)\u001b[0m\u001b[1;33m.\u001b[0m\u001b[0mmean\u001b[0m\u001b[1;33m(\u001b[0m\u001b[1;33m)\u001b[0m\u001b[1;33m\u001b[0m\u001b[1;33m\u001b[0m\u001b[0m\n\u001b[0m\u001b[0;32m     13\u001b[0m \u001b[1;31m#             iter_accuracy += (np.argmax(predicts,axis=1)  == targets).mean()\u001b[0m\u001b[1;33m\u001b[0m\u001b[1;33m\u001b[0m\u001b[1;33m\u001b[0m\u001b[0m\n\u001b[0;32m     14\u001b[0m \u001b[1;31m#             iter_accuracy += (np.where(predicts>=.5, 1, 0) == targets[:,None]).mean()\u001b[0m\u001b[1;33m\u001b[0m\u001b[1;33m\u001b[0m\u001b[1;33m\u001b[0m\u001b[0m\n",
      "\u001b[1;32m<__array_function__ internals>\u001b[0m in \u001b[0;36margmax\u001b[1;34m(*args, **kwargs)\u001b[0m\n",
      "\u001b[1;32mC:\\ProgramData\\Anaconda3\\envs\\py3-TF2\\lib\\site-packages\\numpy\\core\\fromnumeric.py\u001b[0m in \u001b[0;36margmax\u001b[1;34m(a, axis, out)\u001b[0m\n\u001b[0;32m   1184\u001b[0m \u001b[1;33m\u001b[0m\u001b[0m\n\u001b[0;32m   1185\u001b[0m     \"\"\"\n\u001b[1;32m-> 1186\u001b[1;33m     \u001b[1;32mreturn\u001b[0m \u001b[0m_wrapfunc\u001b[0m\u001b[1;33m(\u001b[0m\u001b[0ma\u001b[0m\u001b[1;33m,\u001b[0m \u001b[1;34m'argmax'\u001b[0m\u001b[1;33m,\u001b[0m \u001b[0maxis\u001b[0m\u001b[1;33m=\u001b[0m\u001b[0maxis\u001b[0m\u001b[1;33m,\u001b[0m \u001b[0mout\u001b[0m\u001b[1;33m=\u001b[0m\u001b[0mout\u001b[0m\u001b[1;33m)\u001b[0m\u001b[1;33m\u001b[0m\u001b[1;33m\u001b[0m\u001b[0m\n\u001b[0m\u001b[0;32m   1187\u001b[0m \u001b[1;33m\u001b[0m\u001b[0m\n\u001b[0;32m   1188\u001b[0m \u001b[1;33m\u001b[0m\u001b[0m\n",
      "\u001b[1;32mC:\\ProgramData\\Anaconda3\\envs\\py3-TF2\\lib\\site-packages\\numpy\\core\\fromnumeric.py\u001b[0m in \u001b[0;36m_wrapfunc\u001b[1;34m(obj, method, *args, **kwds)\u001b[0m\n\u001b[0;32m     59\u001b[0m \u001b[1;33m\u001b[0m\u001b[0m\n\u001b[0;32m     60\u001b[0m     \u001b[1;32mtry\u001b[0m\u001b[1;33m:\u001b[0m\u001b[1;33m\u001b[0m\u001b[1;33m\u001b[0m\u001b[0m\n\u001b[1;32m---> 61\u001b[1;33m         \u001b[1;32mreturn\u001b[0m \u001b[0mbound\u001b[0m\u001b[1;33m(\u001b[0m\u001b[1;33m*\u001b[0m\u001b[0margs\u001b[0m\u001b[1;33m,\u001b[0m \u001b[1;33m**\u001b[0m\u001b[0mkwds\u001b[0m\u001b[1;33m)\u001b[0m\u001b[1;33m\u001b[0m\u001b[1;33m\u001b[0m\u001b[0m\n\u001b[0m\u001b[0;32m     62\u001b[0m     \u001b[1;32mexcept\u001b[0m \u001b[0mTypeError\u001b[0m\u001b[1;33m:\u001b[0m\u001b[1;33m\u001b[0m\u001b[1;33m\u001b[0m\u001b[0m\n\u001b[0;32m     63\u001b[0m         \u001b[1;31m# A TypeError occurs if the object does have such a method in its\u001b[0m\u001b[1;33m\u001b[0m\u001b[1;33m\u001b[0m\u001b[1;33m\u001b[0m\u001b[0m\n",
      "\u001b[1;31mKeyboardInterrupt\u001b[0m: "
     ]
    }
   ],
   "source": [
    "np.random.seed(0)\n",
    "reg = regularizers.l1(0.00)\n",
    "layers = [\n",
    "    Linear(13, 64, kernel_regularizer=reg),\n",
    "    ReLU(),\n",
    "    BatchNormalization(64),\n",
    "    Linear(64, 64, kernel_regularizer=reg),\n",
    "    ReLU(),\n",
    "    BatchNormalization(64),\n",
    "    Linear(64, 1)\n",
    "]\n",
    "net = Model(layers, cost=Mean_Squared_Error())\n",
    "optimizer = Adam(net, learning_rate=0.01)\n",
    "train(net, preparedData, optimizer, epochs=10000, verbose=1000, trend_plot=True)\n",
    "# test(net, preparedData.test)"
   ]
  },
  {
   "cell_type": "code",
   "execution_count": 17,
   "metadata": {},
   "outputs": [
    {
     "data": {
      "text/plain": [
       "<__main__.Linear at 0x1f71f7dc488>"
      ]
     },
     "execution_count": 17,
     "metadata": {},
     "output_type": "execute_result"
    }
   ],
   "source": [
    "net.layers[0]"
   ]
  }
 ],
 "metadata": {
  "kernelspec": {
   "display_name": "Python 3",
   "language": "python",
   "name": "python3"
  },
  "language_info": {
   "codemirror_mode": {
    "name": "ipython",
    "version": 3
   },
   "file_extension": ".py",
   "mimetype": "text/x-python",
   "name": "python",
   "nbconvert_exporter": "python",
   "pygments_lexer": "ipython3",
   "version": "3.7.6"
  }
 },
 "nbformat": 4,
 "nbformat_minor": 4
}
