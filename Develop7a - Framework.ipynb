{
 "cells": [
  {
   "cell_type": "code",
   "execution_count": 1,
   "metadata": {},
   "outputs": [],
   "source": [
    "import numpy as np\n",
    "import matplotlib.pyplot as plt\n",
    "import matplotlib.image as img\n",
    "import os\n",
    "from sklearn.datasets import fetch_openml"
   ]
  },
  {
   "cell_type": "markdown",
   "metadata": {},
   "source": [
    "### Data Prepare Class :"
   ]
  },
  {
   "cell_type": "code",
   "execution_count": 2,
   "metadata": {},
   "outputs": [],
   "source": [
    "class DataPrepare(object):\n",
    "    def __init__(self, dataset, test_split=0, batch_size=0, validation_split=.0, shuffle=False):\n",
    "        self.num_samples = dataset[0].shape[0]\n",
    "        dsIndx = np.arange(self.num_samples)\n",
    "        if shuffle:\n",
    "            np.random.shuffle(dsIndx)\n",
    "        self.dataset = dataset[0][dsIndx], dataset[1][dsIndx]\n",
    "        self.num_valid = int(self.num_samples * validation_split)\n",
    "        self.num_test  = int(self.num_samples * test_split)\n",
    "        self.num_train = self.num_samples - self.num_test - self.num_valid\n",
    "        if batch_size == 0:\n",
    "            self.batch_size = self.num_samples\n",
    "            self.num_batchs = 1\n",
    "        else:\n",
    "            self.batch_size = batch_size   \n",
    "            self.num_batchs = self.num_train // batch_size\n",
    "            if self.num_train % batch_size != 0:\n",
    "                self.num_batchs += 1 \n",
    "        if self.num_valid:\n",
    "            self.validations = self.dataset[0][self.num_train:self.num_train+self.num_valid], self.dataset[1][self.num_train:self.num_train+self.num_valid]\n",
    "        else:\n",
    "            self.validations = 0\n",
    "        if self.num_test:\n",
    "            self.test = self.dataset[0][self.num_train+self.num_valid::], self.dataset[1][self.num_train+self.num_valid::]\n",
    "        self.train = self.dataset[0][0:self.num_train], self.dataset[1][0:self.num_train]\n",
    "\n",
    "            \n",
    "    def __iter__(self):\n",
    "        for i in range(0, self.num_train, self.batch_size):\n",
    "            yield (self.train[0][i:i+self.batch_size], self.train[1][i:i+self.batch_size]) \n",
    "            \n",
    "    def __len__(self):\n",
    "        return self.num_batchs\n",
    "    \n",
    "    def info(self):\n",
    "        print('Number of Samples: {} (# Batchs : {})\\n | # Train: {} | # Validation: {} | # Test: {}'.format\n",
    "             (self.num_samples, self.num_batchs, self.num_train, self.num_valid, self.num_test))"
   ]
  },
  {
   "cell_type": "markdown",
   "metadata": {},
   "source": [
    "### Layers Classes :"
   ]
  },
  {
   "cell_type": "code",
   "execution_count": 3,
   "metadata": {},
   "outputs": [],
   "source": [
    "class ReLU:\n",
    "    def forward (self, x):\n",
    "        self.old_x = x.copy()\n",
    "        return np.clip(self.old_x, 0, None)\n",
    "    def backward(self, grad):\n",
    "        return np.where(self.old_x > 0, grad,0)\n",
    "\n",
    "class Sigmoid:\n",
    "    def forward(self, x):\n",
    "        self.y = 1 / (1 + np.exp(-x))\n",
    "        return self.y\n",
    "    def backward(self, grad):\n",
    "        return self.y*(1 - self.y)*grad\n",
    "\n",
    "class Softmax:\n",
    "    def forward(self, x):\n",
    "        n_exp = np.exp(x - x.max())\n",
    "        self.y = n_exp / np.sum(n_exp, axis=1, keepdims=True)\n",
    "        return self.y\n",
    "    def backward(self, grad):\n",
    "        return self.y*(grad - np.sum(grad*self.y, axis=1, keepdims=True))\n",
    "    \n",
    "class Dropout:\n",
    "    def __init__(self, keep_prob):\n",
    "        self.p = keep_prob\n",
    "    def forward(self, x):\n",
    "#         self.dropout = np.random.rand(x.shape[0], x.shape[1]) < self.p\n",
    "        self.dropout = np.random.binomial(1, self.p, size=(x.shape[0], x.shape[1]))\n",
    "        return np.multiply(x, self.dropout) / self.p\n",
    "    def backward(self, grad):\n",
    "        return np.multiply(grad, self.dropout) \n",
    "    \n",
    "class BatchNormalization:\n",
    "    def __init__(self, num_input):\n",
    "        self.gamma = np.ones(num_input)\n",
    "        self.beta = np.zeros(num_input)\n",
    "    def forward(self, x):\n",
    "        mu = np.mean(x, axis=0)\n",
    "        var = np.var(x, axis=0)\n",
    "        x_norm = (x - mu) / np.sqrt(var + 1e-8)\n",
    "        out = self.gamma * x_norm + self.beta\n",
    "        self.cache = (x, x_norm, mu, var)\n",
    "        return out\n",
    "    def backward(self, grad):\n",
    "        x, x_norm, mu, var = self.cache\n",
    "        N, D = x.shape\n",
    "        x_mu = x - mu\n",
    "        std_inv = 1. / np.sqrt(var + 1e-8)\n",
    "        dx_norm = grad * self.gamma\n",
    "        dvar = np.sum(dx_norm * x_mu, axis=0) * -.5 * std_inv**3\n",
    "        dmu = np.sum(dx_norm * -std_inv, axis=0) + dvar * np.mean(-2. * x_mu, axis=0)\n",
    "        dx = (dx_norm * std_inv) + (dvar * 2 * x_mu / N) + (dmu / N)\n",
    "        self.grad_gamma = np.sum(grad * x_norm, axis=0)\n",
    "        self.grad_beta = np.sum(grad, axis=0)\n",
    "        return dx\n",
    "\n",
    "class Linear:\n",
    "    def __init__(self, num_input, num_output):\n",
    "        self.weights = np.random.randn(num_input, num_output)*np.sqrt(2 / num_input)\n",
    "        self.biases = np.zeros((1, num_output))\n",
    "    def forward(self, x):\n",
    "        self.old_x = x.copy()\n",
    "        return np.dot(x, self.weights) + self.biases\n",
    "    def backward(self, grad):\n",
    "#         self.grad_w = (np.matmul(self.old_x[:,:,None], grad[:,None,:])).mean(axis=0)\n",
    "        self.grad_w = np.dot(self.old_x.T, grad) / self.old_x.shape[0]\n",
    "        self.grad_b = grad.mean(axis=0)\n",
    "#         self.grad_b = np.sum(grad, axis=0, keepdims=True)\n",
    "        return np.dot(grad, self.weights.T)"
   ]
  },
  {
   "cell_type": "markdown",
   "metadata": {},
   "source": [
    "### Loss Classes :"
   ]
  },
  {
   "cell_type": "code",
   "execution_count": 24,
   "metadata": {},
   "outputs": [],
   "source": [
    "class Binary_CrossEntropy:\n",
    "    def forward(self, y_hat, y):\n",
    "        self.y_hat = y_hat.clip(min=1e-8, max=None)\n",
    "        self.y = y\n",
    "        return -(y * np.log(y_hat) + (1 - y) * np.log(1 - y_hat))\n",
    "#         return np.where(y==1, -np.log(y_hat), -np.log(1- y_hat))\n",
    "    def backward(self):\n",
    "#         return -(self.y / self.y_hat) + ((1-self.y)/(1-self.y_hat))\n",
    "        return self.y * (self.y_hat - 1) + ((1 - self.y) * self.y_hat)\n",
    "#         return (self.y_hat - self.y) / (self.y_hat) * (1 - self.y_hat)\n",
    "#         return  np.where(self.y==1, self.y_hat-1, self.y_hat)\n",
    "\n",
    "class Categorical_CrossEntropy:\n",
    "    def forward(self, y_hat, y):\n",
    "        self.y_hat = y_hat.clip(min=1e-8, max=None)\n",
    "        self.y = y\n",
    "        return (np.where(y==1, -np.log(self.y_hat), 0)).sum(axis=1)\n",
    "#         return -np.sum(y * np.log(y_hat))\n",
    "    def backward(self):\n",
    "        return np.where(self.y==1, -1 / self.y_hat, 0)\n",
    "\n",
    "class Sparse_Categorical_CrossEntropy:\n",
    "    def forward(self, y_hat, y):\n",
    "        self.y_hat = y_hat.clip(min=1e-8, max=None)\n",
    "        self.y = y\n",
    "        return -np.sum(np.log(self.y_hat[range(y.shape[0]),y])) / y.shape[0]\n",
    "    def backward(self):\n",
    "        y_hot = np.zeros(self.y_hat.shape)\n",
    "        y_hot[range(self.y.shape[0]),self.y] = 1\n",
    "        return np.where(y_hot==1, -1 / self.y_hat, 0)"
   ]
  },
  {
   "cell_type": "markdown",
   "metadata": {},
   "source": [
    "### Model :"
   ]
  },
  {
   "cell_type": "code",
   "execution_count": 5,
   "metadata": {},
   "outputs": [],
   "source": [
    "class Model:\n",
    "    def __init__(self, layers, cost):\n",
    "        self.layers = layers\n",
    "        self.cost = cost\n",
    "    def loss(self, y_hat, y):\n",
    "        return self.cost.forward(y_hat, y)\n",
    "    def forward(self, x, train=False):\n",
    "        for layer in self.layers:\n",
    "            if train:\n",
    "                x = layer.forward(x)\n",
    "            else:\n",
    "                if type(layer) == Dropout:\n",
    "                    continue\n",
    "                x = layer.forward(x)\n",
    "        return x\n",
    "    def backward(self):\n",
    "        grad = self.cost.backward()\n",
    "        for i in range(len(self.layers)-1,-1,-1):\n",
    "            grad = self.layers[i].backward(grad)"
   ]
  },
  {
   "cell_type": "markdown",
   "metadata": {},
   "source": [
    "## Train & Test :"
   ]
  },
  {
   "cell_type": "code",
   "execution_count": 6,
   "metadata": {},
   "outputs": [],
   "source": [
    "def train(model, data, epochs, lr, verbose=1, trend_plot=False):\n",
    "    train_loss = []\n",
    "    train_accuracy = []\n",
    "    valid_loss = []\n",
    "    valid_accuracy = []\n",
    "    for e in range(epochs):\n",
    "        iter_loss = 0.\n",
    "        iter_accuracy = 0.\n",
    "        for inputs, targets in data:\n",
    "            predicts = model.forward(inputs, train=True)\n",
    "            iter_loss += model.loss(predicts, targets).mean()\n",
    "#             iter_accuracy += (np.argmax(predicts,axis=1)  == np.argmax(targets,axis=1)).mean() \n",
    "            iter_accuracy += (np.argmax(predicts,axis=1)  == targets).mean()\n",
    "#             iter_accuracy += (np.where(predicts>=.5, 1, 0) == targets[:,None]).mean()\n",
    "            model.backward()\n",
    "            for layer in model.layers:\n",
    "                if type(layer) == Linear:\n",
    "                    layer.weights -= lr * layer.grad_w\n",
    "                    layer.biases  -= lr * layer.grad_b\n",
    "                if type(layer) == BatchNormalization:\n",
    "                    layer.gamma -= lr * layer.grad_gamma\n",
    "                    layer.beta  -= lr * layer.grad_beta\n",
    "\n",
    "        iter_loss /= len(data)\n",
    "        iter_accuracy /= len(data)\n",
    "        train_loss.append(iter_loss)\n",
    "        train_accuracy.append(iter_accuracy)\n",
    "        \n",
    "        valid_info = ''\n",
    "        if data.validations:\n",
    "            x, y = data.validations\n",
    "            p = model.forward(x)\n",
    "            valid_loss.append(model.loss(p, y).mean())\n",
    "#             valid_accuracy.append((np.argmax(p,axis=1)  == np.argmax(y,axis=1)).mean())\n",
    "            valid_accuracy.append((np.argmax(p,axis=1)  == y).mean())\n",
    "#             valid_accuracy.append((np.where(p>=.5, 1, 0) == targets[:,None]).mean())\n",
    "            valid_info = ' Validation Loss: {:.4f}, Accuracy: {:.1f}%'.format(valid_loss[-1], valid_accuracy[-1]*100)\n",
    "            \n",
    "        if e % verbose == 0:\n",
    "            print('Epoch[{}], Training Loss: {:.4f}, Accuracy: {:.1f}%{}'.format(\n",
    "                   e, iter_loss, iter_accuracy*100, valid_info))\n",
    "    print('DONE TRAINING!')\n",
    "    if trend_plot:\n",
    "        plt.figure(figsize=(5,5))\n",
    "        plt.plot(train_loss, label = 'Trainig Loss')\n",
    "        plt.plot(valid_loss, label = 'Validation Loss')\n",
    "        plt.legend()\n",
    "        plt.show()\n",
    "\n",
    "        plt.figure(figsize=(5,5))\n",
    "        plt.plot(train_accuracy, label = 'Trainig Accuracy')\n",
    "        plt.plot(valid_accuracy, label = 'Validation Accuracy')\n",
    "        plt.legend()\n",
    "        plt.show()"
   ]
  },
  {
   "cell_type": "code",
   "execution_count": 7,
   "metadata": {},
   "outputs": [],
   "source": [
    "def test(model, data):\n",
    "    x, y = data\n",
    "    p = model.forward(x)\n",
    "#     accuracy = (np.argmax(p,axis=1)  == np.argmax(y,axis=1)).mean()\n",
    "    accuracy = (np.argmax(p,axis=1)  == y).mean()\n",
    "#     accuracy = (np.where(p>=.5, 1, 0) == targets[:,None]).mean()\n",
    "    print('Test Accuracy: {:.1f}%'.format(accuracy*100))"
   ]
  },
  {
   "cell_type": "markdown",
   "metadata": {},
   "source": [
    "#### Load data :"
   ]
  },
  {
   "cell_type": "code",
   "execution_count": 31,
   "metadata": {},
   "outputs": [
    {
     "name": "stdout",
     "output_type": "stream",
     "text": [
      "(70000, 784) (70000,)\n"
     ]
    }
   ],
   "source": [
    "X, Y = fetch_openml('mnist_784', version=1, return_X_y=True)\n",
    "Y = Y.astype(int)\n",
    "print(X.shape, Y.shape)"
   ]
  },
  {
   "cell_type": "markdown",
   "metadata": {},
   "source": [
    "#### Prepared Data :"
   ]
  },
  {
   "cell_type": "code",
   "execution_count": 32,
   "metadata": {},
   "outputs": [
    {
     "name": "stdout",
     "output_type": "stream",
     "text": [
      "Number of Samples: 70000 (# Batchs : 974)\n",
      " | # Train: 62300 | # Validation: 700 | # Test: 7000\n"
     ]
    }
   ],
   "source": [
    "preparedData = DataPrepare((X,Y), test_split=.10, batch_size=64, validation_split=.01, shuffle=True)\n",
    "preparedData.info()"
   ]
  },
  {
   "cell_type": "markdown",
   "metadata": {},
   "source": [
    "#### Architecture :"
   ]
  },
  {
   "cell_type": "code",
   "execution_count": 33,
   "metadata": {
    "scrolled": false
   },
   "outputs": [
    {
     "name": "stdout",
     "output_type": "stream",
     "text": [
      "Epoch[0], Training Loss: 0.5243, Accuracy: 83.9% Validation Loss: 0.2645, Accuracy: 91.4%\n",
      "Epoch[1], Training Loss: 0.2917, Accuracy: 91.1% Validation Loss: 0.1992, Accuracy: 94.1%\n",
      "Epoch[2], Training Loss: 0.2390, Accuracy: 92.9% Validation Loss: 0.1685, Accuracy: 94.4%\n",
      "Epoch[3], Training Loss: 0.2044, Accuracy: 93.8% Validation Loss: 0.1495, Accuracy: 94.9%\n",
      "Epoch[4], Training Loss: 0.1820, Accuracy: 94.5% Validation Loss: 0.1340, Accuracy: 95.6%\n",
      "Epoch[5], Training Loss: 0.1657, Accuracy: 95.0% Validation Loss: 0.1243, Accuracy: 95.9%\n",
      "Epoch[6], Training Loss: 0.1497, Accuracy: 95.5% Validation Loss: 0.1158, Accuracy: 96.1%\n",
      "Epoch[7], Training Loss: 0.1415, Accuracy: 95.6% Validation Loss: 0.1118, Accuracy: 97.1%\n",
      "Epoch[8], Training Loss: 0.1293, Accuracy: 96.0% Validation Loss: 0.1029, Accuracy: 97.0%\n",
      "Epoch[9], Training Loss: 0.1223, Accuracy: 96.2% Validation Loss: 0.1007, Accuracy: 97.3%\n",
      "Epoch[10], Training Loss: 0.1179, Accuracy: 96.3% Validation Loss: 0.0995, Accuracy: 97.4%\n",
      "Epoch[11], Training Loss: 0.1092, Accuracy: 96.6% Validation Loss: 0.0964, Accuracy: 97.6%\n",
      "Epoch[12], Training Loss: 0.1047, Accuracy: 96.7% Validation Loss: 0.0906, Accuracy: 97.4%\n",
      "Epoch[13], Training Loss: 0.0992, Accuracy: 96.9% Validation Loss: 0.0887, Accuracy: 97.9%\n",
      "Epoch[14], Training Loss: 0.0951, Accuracy: 97.0% Validation Loss: 0.0901, Accuracy: 97.6%\n",
      "Epoch[15], Training Loss: 0.0917, Accuracy: 97.0% Validation Loss: 0.0896, Accuracy: 97.6%\n",
      "Epoch[16], Training Loss: 0.0870, Accuracy: 97.3% Validation Loss: 0.0906, Accuracy: 97.9%\n",
      "Epoch[17], Training Loss: 0.0829, Accuracy: 97.3% Validation Loss: 0.0883, Accuracy: 97.9%\n",
      "Epoch[18], Training Loss: 0.0807, Accuracy: 97.4% Validation Loss: 0.0857, Accuracy: 98.0%\n",
      "Epoch[19], Training Loss: 0.0782, Accuracy: 97.5% Validation Loss: 0.0879, Accuracy: 98.0%\n",
      "DONE TRAINING!\n"
     ]
    },
    {
     "data": {
      "image/png": "[encoded data removed]",
      "text/plain": [
       "<Figure size 360x360 with 1 Axes>"
      ]
     },
     "metadata": {
      "needs_background": "light"
     },
     "output_type": "display_data"
    },
    {
     "data": {
      "image/png": "[encoded data removed]",
      "text/plain": [
       "<Figure size 360x360 with 1 Axes>"
      ]
     },
     "metadata": {
      "needs_background": "light"
     },
     "output_type": "display_data"
    },
    {
     "name": "stdout",
     "output_type": "stream",
     "text": [
      "Test Accuracy: 97.7%\n"
     ]
    }
   ],
   "source": [
    "layers = [\n",
    "    Linear(784, 128),\n",
    "    ReLU(),\n",
    "    BatchNormalization(128),\n",
    "    Dropout(.8),\n",
    "    Linear(128, 10),\n",
    "    Softmax()]\n",
    "\n",
    "net = Model(layers, cost=Sparse_Categorical_CrossEntropy())\n",
    "train(net, preparedData, 20, lr=.01, verbose=1, trend_plot=True)\n",
    "test(net, preparedData.test)"
   ]
  },
  {
   "cell_type": "code",
   "execution_count": null,
   "metadata": {},
   "outputs": [],
   "source": []
  }
 ],
 "metadata": {
  "kernelspec": {
   "display_name": "Python 3",
   "language": "python",
   "name": "python3"
  },
  "language_info": {
   "codemirror_mode": {
    "name": "ipython",
    "version": 3
   },
   "file_extension": ".py",
   "mimetype": "text/x-python",
   "name": "python",
   "nbconvert_exporter": "python",
   "pygments_lexer": "ipython3",
   "version": "3.7.6"
  }
 },
 "nbformat": 4,
 "nbformat_minor": 4
}
